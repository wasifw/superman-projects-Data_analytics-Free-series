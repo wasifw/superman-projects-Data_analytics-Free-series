{
  "nbformat": 4,
  "nbformat_minor": 0,
  "metadata": {
    "colab": {
      "provenance": []
    },
    "kernelspec": {
      "name": "python3",
      "display_name": "Python 3"
    },
    "language_info": {
      "name": "python"
    }
  },
  "cells": [
    {
      "cell_type": "code",
      "execution_count": 1,
      "metadata": {
        "id": "rS3tjXw_LHqJ"
      },
      "outputs": [],
      "source": [
        "expenses = [\n",
        "    {\"category\": \"Food\", \"amount\": 2500},\n",
        "    {\"category\": \"Transport\", \"amount\": 1200},\n",
        "    {\"category\": \"Shopping\", \"amount\": 3000},\n",
        "    {\"category\": \"Food\", \"amount\": 1500},\n",
        "    {\"category\": \"Rent\", \"amount\": 8000}\n",
        "]"
      ]
    },
    {
      "cell_type": "code",
      "source": [
        "# calculating total expense\n",
        "total_expense = 0\n",
        "for item in expenses:\n",
        "    total_expense += item[\"amount\"]\n",
        "print(\"Total Expense:\", total_expense)"
      ],
      "metadata": {
        "colab": {
          "base_uri": "https://localhost:8080/"
        },
        "id": "7FSqHWqSLvwZ",
        "outputId": "9bcb9d8a-7488-4ced-da13-83f1a1b64aa1"
      },
      "execution_count": 2,
      "outputs": [
        {
          "output_type": "stream",
          "name": "stdout",
          "text": [
            "Total Expense: 16200\n"
          ]
        }
      ]
    },
    {
      "cell_type": "code",
      "source": [
        "# calculating category wise expense\n",
        "category_wise = {}\n",
        "for item in expenses:\n",
        "    category = item[\"category\"]\n",
        "    amount = item[\"amount\"]\n",
        "    if category in category_wise:\n",
        "        category_wise[category] += amount\n",
        "    else:\n",
        "        category_wise[category] = amount\n",
        "print(\"Category wise expense:\", category_wise)"
      ],
      "metadata": {
        "colab": {
          "base_uri": "https://localhost:8080/"
        },
        "id": "svKlRhM1Ly3H",
        "outputId": "be9620bd-dc14-4972-8296-a6b800024d23"
      },
      "execution_count": 3,
      "outputs": [
        {
          "output_type": "stream",
          "name": "stdout",
          "text": [
            "Category wise expense: {'Food': 4000, 'Transport': 1200, 'Shopping': 3000, 'Rent': 8000}\n"
          ]
        }
      ]
    },
    {
      "cell_type": "code",
      "source": [
        "# comparing with income\n",
        "income = 7000\n",
        "savings = income - total_expense\n",
        "if savings > 0:\n",
        "    print(\"You saved:\", savings, \"Taka\")\n",
        "elif savings == 0:\n",
        "    print(\"Break-even! No savings, no loss.\")\n",
        "else:\n",
        "    print(\"You are in loss:\", abs(savings), \"Taka\")"
      ],
      "metadata": {
        "colab": {
          "base_uri": "https://localhost:8080/"
        },
        "id": "Dvw1t6rLL13f",
        "outputId": "c4eff039-8de7-4533-c4db-4f998463b583"
      },
      "execution_count": 4,
      "outputs": [
        {
          "output_type": "stream",
          "name": "stdout",
          "text": [
            "You are in loss: 9200 Taka\n"
          ]
        }
      ]
    },
    {
      "cell_type": "code",
      "source": [
        "# finding highest expense category\n",
        "highest_category = None\n",
        "highest_amount = 0\n",
        "for category, amount in category_wise.items():\n",
        "    if amount > highest_amount:\n",
        "        highest_amount = amount\n",
        "        highest_category = category\n",
        "print(\"Highest expense is in:\", highest_category, \"-\", highest_amount, \"Taka\")"
      ],
      "metadata": {
        "colab": {
          "base_uri": "https://localhost:8080/"
        },
        "id": "lCTkpeDlL4aO",
        "outputId": "0804589c-d6c2-4be7-c4fe-66cc3262734d"
      },
      "execution_count": 5,
      "outputs": [
        {
          "output_type": "stream",
          "name": "stdout",
          "text": [
            "Highest expense is in: Rent - 8000 Taka\n"
          ]
        }
      ]
    }
  ]
}
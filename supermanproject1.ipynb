{
  "nbformat": 4,
  "nbformat_minor": 0,
  "metadata": {
    "colab": {
      "provenance": []
    },
    "kernelspec": {
      "name": "python3",
      "display_name": "Python 3"
    },
    "language_info": {
      "name": "python"
    }
  },
  "cells": [
    {
      "cell_type": "code",
      "execution_count": 1,
      "metadata": {
        "colab": {
          "base_uri": "https://localhost:8080/"
        },
        "id": "8QwLmGTgg7yz",
        "outputId": "86777955-764a-4721-e617-1d96e60e3c88"
      },
      "outputs": [
        {
          "output_type": "stream",
          "name": "stdout",
          "text": [
            "Hello student! Superman Session project 1 started\n"
          ]
        }
      ],
      "source": [
        "print(\"Hello student! Superman Session project 1 started\")"
      ]
    },
    {
      "cell_type": "code",
      "source": [
        "student = {\n",
        "    \"name\":\"Arafat\",\n",
        "    \"math\":85,\n",
        "    \"eng\":78,\n",
        "    \"science\":92\n",
        "}\n",
        "print(student)\n",
        "print(student[\"name\"])\n",
        "print(student[\"math\"])"
      ],
      "metadata": {
        "colab": {
          "base_uri": "https://localhost:8080/"
        },
        "id": "H91HEzPghfxD",
        "outputId": "07241644-ea71-421c-c2f9-9283e664f9e9"
      },
      "execution_count": 2,
      "outputs": [
        {
          "output_type": "stream",
          "name": "stdout",
          "text": [
            "{'name': 'Arafat', 'math': 85, 'eng': 78, 'science': 92}\n",
            "Arafat\n",
            "85\n"
          ]
        }
      ]
    },
    {
      "cell_type": "code",
      "source": [
        "students=[\n",
        "    {\"name\":\"Arafat\",\"math\":85,\"eng\":78,\"science\":92},\n",
        "    {\"name\":\"Nusrat\",\"math\":90,\"eng\":88,\"science\":80},\n",
        "    {\"name\":\"Sakib\",\"math\":70,\"eng\":60,\"science\":75}\n",
        "]\n",
        "print(\"total student\",len(students))\n",
        "print(students)"
      ],
      "metadata": {
        "colab": {
          "base_uri": "https://localhost:8080/"
        },
        "id": "uiHSAUshiTP2",
        "outputId": "d8c918e0-0b7e-4d44-f314-fff974179c38"
      },
      "execution_count": 5,
      "outputs": [
        {
          "output_type": "stream",
          "name": "stdout",
          "text": [
            "total student 3\n",
            "[{'name': 'Arafat', 'math': 85, 'eng': 78, 'science': 92}, {'name': 'Nusrat', 'math': 90, 'eng': 88, 'science': 80}, {'name': 'Sakib', 'math': 70, 'eng': 60, 'science': 75}]\n"
          ]
        }
      ]
    },
    {
      "cell_type": "code",
      "source": [
        "for s in students:\n",
        "  s[\"total\"]=s[\"math\"]+ s[\"eng\"]+s[\"science\"]\n",
        "\n",
        "#check if total was calculated\n",
        "for s in students:\n",
        "  print(s[\"name\"],\"▶ total:\",s[\"total\"])"
      ],
      "metadata": {
        "colab": {
          "base_uri": "https://localhost:8080/"
        },
        "id": "z7wyufS4jfCx",
        "outputId": "e1fdc1d5-850d-4033-d828-76dc410c6afe"
      },
      "execution_count": 7,
      "outputs": [
        {
          "output_type": "stream",
          "name": "stdout",
          "text": [
            "Arafat ▶ total: 255\n",
            "Nusrat ▶ total: 258\n",
            "Sakib ▶ total: 205\n"
          ]
        }
      ]
    },
    {
      "cell_type": "code",
      "source": [
        "highest=-1\n",
        "topper_name=\"\"\n",
        "for s in students:\n",
        "    if s[\"total\"]>highest:\n",
        "        highest=s[\"total\"]\n",
        "        topper_name=s[\"name\"]\n",
        "print(\"Topper:\",topper_name,\"with\",highest,\"marks\")\n"
      ],
      "metadata": {
        "colab": {
          "base_uri": "https://localhost:8080/"
        },
        "id": "2WYMAQFJlIA7",
        "outputId": "a33c2f49-7220-42c8-f4c2-15464176edd1"
      },
      "execution_count": 9,
      "outputs": [
        {
          "output_type": "stream",
          "name": "stdout",
          "text": [
            "Topper: Nusrat with 258 marks\n"
          ]
        }
      ]
    },
    {
      "cell_type": "code",
      "source": [
        "for s in students:\n",
        "  print(\"----- Report Card -----\")\n",
        "  print(\"Name:\",s[\"name\"])\n",
        "  print(\"Math:\",s[\"math\"])\n",
        "  print(\"English:\",s[\"eng\"])\n",
        "  print(\"Science:\",s[\"science\"])\n",
        "  print(\"Total:\",s[\"total\"])\n",
        "  print(\"-----------------------\")\n",
        "\n",
        "print(\"\\nOverall Topper→\",topper_name,\"with\",highest)\n"
      ],
      "metadata": {
        "colab": {
          "base_uri": "https://localhost:8080/"
        },
        "id": "CrVJZtZflvMy",
        "outputId": "24bdbf9d-897d-4439-f871-8243d2afdf8c"
      },
      "execution_count": 10,
      "outputs": [
        {
          "output_type": "stream",
          "name": "stdout",
          "text": [
            "----- Report Card -----\n",
            "Name: Arafat\n",
            "Math: 85\n",
            "English: 78\n",
            "Science: 92\n",
            "Total: 255\n",
            "-----------------------\n",
            "----- Report Card -----\n",
            "Name: Nusrat\n",
            "Math: 90\n",
            "English: 88\n",
            "Science: 80\n",
            "Total: 258\n",
            "-----------------------\n",
            "----- Report Card -----\n",
            "Name: Sakib\n",
            "Math: 70\n",
            "English: 60\n",
            "Science: 75\n",
            "Total: 205\n",
            "-----------------------\n",
            "\n",
            "Overall Topper→ Nusrat with 258\n"
          ]
        }
      ]
    }
  ]
}
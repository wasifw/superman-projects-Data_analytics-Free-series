{
  "nbformat": 4,
  "nbformat_minor": 0,
  "metadata": {
    "colab": {
      "provenance": []
    },
    "kernelspec": {
      "name": "python3",
      "display_name": "Python 3"
    },
    "language_info": {
      "name": "python"
    }
  },
  "cells": [
    {
      "cell_type": "code",
      "execution_count": 1,
      "metadata": {
        "id": "_hNOsU3Zi8t9"
      },
      "outputs": [],
      "source": [
        "# Step 1: Storing Data\n",
        "sales = [\n",
        "    {\"day\": \"Monday\", \"product\": \"Shirt\", \"amount\": 1200},\n",
        "    {\"day\": \"Monday\", \"product\": \"Pant\", \"amount\": 800},\n",
        "    {\"day\": \"Tuesday\", \"product\": \"Shirt\", \"amount\": 1500},\n",
        "    {\"day\": \"Tuesday\", \"product\": \"Shoe\", \"amount\": 2000},\n",
        "    {\"day\": \"Wednesday\", \"product\": \"Pant\", \"amount\": 1000},\n",
        "    {\"day\": \"Wednesday\", \"product\": \"Shoe\", \"amount\": 2500}\n",
        "]"
      ]
    },
    {
      "cell_type": "code",
      "source": [
        "# Step 2: Total Sales\n",
        "total_sales = 0\n",
        "for record in sales:\n",
        "    total_sales += record[\"amount\"]\n",
        "print(\"Total Sales:\", total_sales)\n"
      ],
      "metadata": {
        "colab": {
          "base_uri": "https://localhost:8080/"
        },
        "id": "G6KOfAMojKEP",
        "outputId": "7008a66e-9a01-4205-92f6-c69b4d1b3959"
      },
      "execution_count": 2,
      "outputs": [
        {
          "output_type": "stream",
          "name": "stdout",
          "text": [
            "Total Sales: 9000\n"
          ]
        }
      ]
    },
    {
      "cell_type": "code",
      "source": [
        "# Step 3: Most Sold Product\n",
        "product_sales = {}\n",
        "for record in sales:\n",
        "    product = record[\"product\"]\n",
        "    amount = record[\"amount\"]\n",
        "    if product in product_sales:\n",
        "        product_sales[product] += amount\n",
        "    else:\n",
        "        product_sales[product] = amount\n",
        "\n",
        "print(\"Product Wise Sales:\", product_sales)\n",
        "print(\"Most Sold Product:\", max(product_sales, key=product_sales.get))\n"
      ],
      "metadata": {
        "colab": {
          "base_uri": "https://localhost:8080/"
        },
        "id": "BtF-5zJpjOIb",
        "outputId": "b24435d9-2edd-44b7-ef6d-5d102925e535"
      },
      "execution_count": 4,
      "outputs": [
        {
          "output_type": "stream",
          "name": "stdout",
          "text": [
            "Product Wise Sales: {'Shirt': 2700, 'Pant': 1800, 'Shoe': 4500}\n",
            "Most Sold Product: Shoe\n"
          ]
        }
      ]
    },
    {
      "cell_type": "code",
      "source": [
        "# Step 4: Average Sales\n",
        "average_sales = total_sales / len(sales)\n",
        "print(\"Average Sales per record:\", average_sales)\n"
      ],
      "metadata": {
        "colab": {
          "base_uri": "https://localhost:8080/"
        },
        "id": "rIzB6L5IjXY5",
        "outputId": "63cc5cc5-a651-4897-aec0-428daa0ca05a"
      },
      "execution_count": 5,
      "outputs": [
        {
          "output_type": "stream",
          "name": "stdout",
          "text": [
            "Average Sales per record: 1500.0\n"
          ]
        }
      ]
    },
    {
      "cell_type": "code",
      "source": [
        "# Step 5: Best Sale Day\n",
        "day_sales = {}\n",
        "for record in sales:\n",
        "    day = record[\"day\"]\n",
        "    amount = record[\"amount\"]\n",
        "    if day in day_sales:\n",
        "        day_sales[day] += amount\n",
        "    else:\n",
        "        day_sales[day] = amount\n",
        "\n",
        "print(\"Day Wise Sales:\", day_sales)\n",
        "print(\"Highest Sales Day:\", max(day_sales, key=day_sales.get))"
      ],
      "metadata": {
        "colab": {
          "base_uri": "https://localhost:8080/"
        },
        "id": "sMSMPns2jcwF",
        "outputId": "3b8ab1e8-dca7-4f26-83b8-272f6cf6c067"
      },
      "execution_count": 6,
      "outputs": [
        {
          "output_type": "stream",
          "name": "stdout",
          "text": [
            "Day Wise Sales: {'Monday': 2000, 'Tuesday': 3500, 'Wednesday': 3500}\n",
            "Highest Sales Day: Tuesday\n"
          ]
        }
      ]
    }
  ]
}